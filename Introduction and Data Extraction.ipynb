{
 "cells": [
  {
   "cell_type": "markdown",
   "metadata": {},
   "source": [
    "#  **Site selection to open Shushi place**\n",
    "\n",
    "## Introduction and Background"
   ]
  },
  {
   "cell_type": "markdown",
   "metadata": {},
   "source": [
    "\n",
    "Imagine a friend of yours, who is also business person, has asked your help for site selection. The business she wants to open is a Sushi place somewhere in Toronto. After going through the budgetary concerns, the next issue --- and where your input as a data scientist is sought --- is related with the choice of location selection for the business as it is one of the biggest concerns she has. She is asking you _where is the best neighborhood to start the business?_.  In this project we will use data science tools in helping us choose the best site.\n",
    "\n",
    "Although this is a mini project aimed at addressing your friend's location choice, yet it is implied that anyone who interested to start a Sushi business in Toronto, and are not sure of where to open, can also be considered as our target audience.\n",
    "\n",
    "According to wikipedia [[1](https://en.wikipedia.org/wiki/Sushi)] \n",
    ">Sushi (すし, 寿司, 鮨, pronounced [sɯꜜɕi] or [sɯɕiꜜ]) is a Japanese dish of specially prepared vinegared rice (鮨飯 sushi-meshi), usually with some sugar and salt, combined with a variety of ingredients (ネタ neta), such as seafood, vegetables, and occasionally tropical fruits. Styles of sushi and its presentation vary widely, but the key ingredient is \"sushi rice\", also referred to as shari (しゃり), or sumeshi (酢飯). The term sushi is no longer used in its original context and literally means \"sour-tasting\".\n",
    "\n",
    "## Data Acquisition\n",
    "This section presents the datasets used for this study and details of the methods used to perform our analysis. As the Toronto data that we need to explore, segment, and cluster the neighborhoods in the city of Toronto is not readily available, we need to scrape the Wikipedia page [[2](https://en.wikipedia.org/wiki/List_of_postal_codes_of_Canada:_M)] and wrangle the data, clean it, and then read it into a pandas dataframe so that it is in a structured format ready for further use. Next because the data from wikipedia page lacks coordinates (i.e latitudes and longitudes), we will have to import the Geospatial_data from [[3](https://cocl.us/Geospatial_data)] and then Toronto neighborhood addresses are converted into their equivalent latitude and longitude values retrieved from Geospatial_data using Pandas library in Python. Table 1 shows the first 12 examples of a dataset comprising of Borough, Neighborhood, Latitude, and Longitude of Toronto neighborhoods.\n",
    "\n",
    "![alt text](Toronto_Borough.png \"Table 1: First 12 examples of a dataset of Toronto neighborhoods\")   \n",
    "_Table 1: First 12 examples of a dataset of Toronto neighborhoods_\n",
    "\n",
    "We explore the neighborhoods popular venues and the likes via data acquired using Foursquare [[4](https://foursquare.com/)]. The Foursquare API is used to explore neighborhoods in Toronto. Using the explore function, the most common venue categories within a radius of 500 meters is extracted for each  neighborhood and the number of returned venues by Foursquare API is limited to 100. Table 2 presents the first 7 venues of dataset returned.\n",
    "\n",
    "![alt text](Neigh_Venues.png \"Table 2: Dataset of Toronto neighborhoods' popular venues\")        \n",
    "_Table 2: Dataset of Toronto neighborhoods' popular venues_\n",
    "\n",
    "In this project, we will just use the location data from the Foursquare. By analyzing the venue categories of each neighborhood in Toronto, we will decide if the neighborhood is suitable to open a new Sushi place.\n",
    "\n",
    "As the Foursquare provide us data for each neighborhood in Toronto. We will use the data acquired to examine different questions such as types, numbers, and distance of each venue. Thereby make a decision as to whether the identified location is good or bad for a Sushi business. \n",
    "\n",
    "The following bar chart summarizes the result obtained from Foursquare by  querying for popular venues in each neighborhood and the convert the output into data frame ready to produce the chart\n",
    "\n",
    "![alt text](bar.png \"Figure 1: Bar Chart of Toronto neighborhoods' popular venues\")        \n",
    "_Bar chart 1: Bar Chart of Toronto neighborhoods' popular venues_\n",
    "\n",
    "## Methodology\n",
    "In this project, we will use the Foursquare API to explore neighborhoods in Toronto city. For simplicity we will work with those Borough whose name contains Toronto in it. We will use the **explore** function to get the most common venue categories in each neighborhood, and then use this feature to group the neighborhoods into clusters. We will use the *k*-means clustering algorithm to complete the grouping of neighborhoods into clusters. Finally, I will use the Folium library to visualize the neighborhoods in Toronto City and their emerging clusters. \n",
    "\n",
    "As Sushi places can have different names we widen our search of existing Sushi places by using terms like: Sushi Restaurant, Japanese Restaurant, Asian Restaurant. To learn from the experience of the existing Sushi places we need to know what are the most common nearby venues around the existing Sushi places in each neighborhood and the result is displayed as listed below\n",
    "\n",
    "![alt text](PopularVenues.png \"List: Popular Venues around Sushi places\")        \n",
    " _List 1: Popular Venues around Sushi places_\n",
    " \n",
    "After we examine the dataset history and see what are the popular venues around a Sushi restaurant, next we examine the average number of Sushi place for each neighborhood.  \n",
    "Then we are looking for all the neighborhoods, which have the top 5 venues categories. We choose the least number of Sushi place in the vicinity as the suggested neighborhood. \n",
    "\n",
    "\n",
    "## Results\n",
    "Firstly, We find out that for all the neighborhoods which has at least one coffee shop, the top venues categories (put aside Japanese restaurant) are: coffee shop and café, Restaurant, Hotel, Bar, Italian Restaurant, Pizza place, and Gym. As I consider Japanese Restaurant should be part of the category of Sushi place,  I omit from the list of the top 5 categories.  I do so because from this experience we learn that the optimal neighborhoods to start a Sushi business should have the following 5 venues categories: Coffee shop and café, Restaurant, Hotel, Bar,  Pizza Place respectively.\n",
    "\n",
    "Furthermore, we calculated the average number of Sushi near those neighborhoods to be 3.5.  With the two conditions. First the top 5 categories of venues in a neighborhood and second we demand less than 4 Sushi places in a neighborhood,  \n",
    "   \n",
    "We next identified neighborhoods to have met the conditions. Finally, we calculate the total number of Sushi places in those neighborhoods. Here are the results:\n",
    "\n",
    "![alt text](Sushi_Target.png \"List: Number of Sushi places in neighborhoods\")        \n",
    " _List 2: Dataset of Toronto neighborhoods' popular venues_\n",
    "\n",
    "It is reasonable to choose the neighborhood with the minimum number as the chosen location, but as we can see we have five neighborhood that are equally plausible choice for opening Sushi place. At this point it is also an option to provide the five options and see if the owners have any preference. \n",
    "\n",
    "![alt text](Map_Cluster.png \"Cluster of neighborhoods\")        \n",
    "_Map 1: Berczy Park Neighborhood_\n",
    "\n",
    "However as an alternative we further refine our choice by addressing the question that which of these will be able to cover the most number of neighborhoods, i.e proximity to other neighborhoods. When we cluster our dataset based on these criteria we have obtained the following result and with this we chose the best option. Our recommendation is thus Berczy Park with the coordinate location of [43.6447708, -79.3733064] and it belongs to the orange cluster group shown numbered 698 Map 2.\n",
    "\n",
    "![alt text](Map_Toronto_neigh.png \"Cluster of neighborhoods\")        \n",
    "_Map 2: Cluster of neighborhoods_\n",
    "\n",
    "## Discussion\n",
    "From the analysis above, if one can conclude, solely, by considering the locations, Berczy Park should be a good start to explore as a candidate for the site. On top of this, these neighborhood fulfills the top 5 venues that were seen to usually accompany Sushi restaurants' surrounding. Further more we see from the results that opening in such neighborhood avoids competitions, which in itself is an attractive feature. \n",
    "This study is limited in its scope in that it has explored Boroughs in Toronto whose name included Toronto in it, for instance Downtown Toronto. Another  shortage of the project is it has not taken into consideration the size of population in each neighborhood. \n",
    "\n",
    "As a next stage it will be interesting to see what results we get if we include the size of population in each neighborhood. \n",
    " \n",
    "## Conclusion\n",
    "In this project we managed to find the best neighborhood for a Sushi place. In order to identify the optimal location factors we took into consideration are: (a) learn from experience by studying the popular venues around existing Sushi places and (b) assess the existence, or lack thereof, Japanese restaurant/ Sushi restaurant/ Asian restaurant. We have omitted seafood restaurants as they solely are not specialized in Sushi. \n",
    "\n",
    "One limitation of the study worth mentioning is that we haven't included the population density of the neighborhoods, as we did not have ready made dataset for population in each neighborhood. But as remedy we have further tried to cluster the neighborhoods' proximity to each other. The more neighborhood dense clusters our site belongs to the better location it is, as it will be easily accessible from those neighborhoods.\n",
    "\n",
    " \n",
    "# Acknowledgment\n",
    "I thank my instructors at Coursera IBM Data Science, I also thank course attendees who have patiently reviewed my peer assignments and projects.\n",
    "\n",
    "# References\n",
    "[1] https://en.wikipedia.org/wiki/Sushi   \n",
    "[2] https://en.wikipedia.org/wiki/List_of_postal_codes_of_Canada:_M   \n",
    "[3] https://cocl.us/Geospatial_data   \n",
    "[4] https://foursquare.com/\n",
    "\n"
   ]
  },
  {
   "cell_type": "markdown",
   "metadata": {},
   "source": [
    "# Appendices"
   ]
  },
  {
   "cell_type": "code",
   "execution_count": null,
   "metadata": {},
   "outputs": [],
   "source": []
  }
 ],
 "metadata": {
  "kernelspec": {
   "display_name": "Python 3",
   "language": "python",
   "name": "python3"
  },
  "language_info": {
   "codemirror_mode": {
    "name": "ipython",
    "version": 3
   },
   "file_extension": ".py",
   "mimetype": "text/x-python",
   "name": "python",
   "nbconvert_exporter": "python",
   "pygments_lexer": "ipython3",
   "version": "3.6.5"
  }
 },
 "nbformat": 4,
 "nbformat_minor": 2
}
